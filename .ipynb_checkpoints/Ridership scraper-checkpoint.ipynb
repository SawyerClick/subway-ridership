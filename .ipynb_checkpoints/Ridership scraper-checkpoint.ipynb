{
 "cells": [
  {
   "cell_type": "code",
   "execution_count": 526,
   "metadata": {},
   "outputs": [],
   "source": [
    "from bs4 import BeautifulSoup\n",
    "import pandas as pd\n",
    "pd.set_option('display.max_colwidth', -1)\n",
    "\n",
    "import numpy as np\n",
    "\n",
    "import re\n",
    "import requests\n",
    "\n",
    "import matplotlib\n",
    "import matplotlib.pyplot as plt\n",
    "import matplotlib.patches as mpatches\n",
    "from matplotlib import rc\n",
    "plt.rcParams.update({'font.size': 102})\n",
    "matplotlib.rcParams['pdf.fonttype'] = 42\n",
    "# matplotlib.rcParams['font.monospace'] = \"Courier\"\n",
    "# matplotlib.rcParams['font.family'] = \"monospace\"\n",
    "\n",
    "from pywaffle import Waffle\n",
    "\n",
    "%matplotlib inline\n",
    "plt.style.use('ggplot')\n",
    "\n",
    "import seaborn as sns\n",
    "# sns.set(font_scale=1.5)"
   ]
  },
  {
   "cell_type": "code",
   "execution_count": 527,
   "metadata": {},
   "outputs": [
    {
     "name": "stdout",
     "output_type": "stream",
     "text": [
      "['bmh', 'classic', 'dark_background', 'fast', 'fivethirtyeight', 'ggplot', 'grayscale', 'seaborn-bright', 'seaborn-colorblind', 'seaborn-dark-palette', 'seaborn-dark', 'seaborn-darkgrid', 'seaborn-deep', 'seaborn-muted', 'seaborn-notebook', 'seaborn-paper', 'seaborn-pastel', 'seaborn-poster', 'seaborn-talk', 'seaborn-ticks', 'seaborn-white', 'seaborn-whitegrid', 'seaborn', 'Solarize_Light2', 'tableau-colorblind10', '_classic_test']\n"
     ]
    }
   ],
   "source": [
    "print(plt.style.available)"
   ]
  },
  {
   "cell_type": "markdown",
   "metadata": {},
   "source": [
    "# Scraping for annual ridership\n",
    "`http://web.mta.info/nyct/facts/ridership/ridership_sub_annual.htm`"
   ]
  },
  {
   "cell_type": "code",
   "execution_count": 459,
   "metadata": {},
   "outputs": [
    {
     "data": {
      "text/plain": [
       "(484, 15)"
      ]
     },
     "execution_count": 459,
     "metadata": {},
     "output_type": "execute_result"
    }
   ],
   "source": [
    "response = requests.get(\"http://web.mta.info/nyct/facts/ridership/ridership_sub_statClosure.htm\")\n",
    "closuresDoc = BeautifulSoup(response.text)\n",
    "\n",
    "closures = []\n",
    "for row in closuresDoc.find_all(\"tr\")[3:]:\n",
    "    closure = {}\n",
    "    total = \"\"\n",
    "    closure['Station'] = row.find_all(\"td\")[3].text.strip()\n",
    "    closure['Borough'] = row.find_all(\"td\")[1].text.strip()\n",
    "    try: \n",
    "        for pic in row.find_all(\"td\")[3].find(\"div\").find_all(\"img\"):\n",
    "            one = pic['alt'].split(\" \")[0]\n",
    "            total = total + one\n",
    "            closure['lines'] = total\n",
    "    except:\n",
    "        pass\n",
    "#     closure['Direction'] = row.find_all(\"td\")[5].text.strip()\n",
    "#     closure['Segment'] = row.find_all(\"td\")[2].text.strip()\n",
    "    closure['Closed'] = row.find_all(\"td\")[6].text.strip()\n",
    "    closure['Opened'] = row.find_all(\"td\")[7].text.strip()\n",
    "    \n",
    "    closures.append(closure)\n",
    "\n",
    "closures = pd.DataFrame(closures)\n",
    "closures['Station'] = closures['Station'].str.replace(r\"\\(.?\\)\",\"\", regex=True)\n",
    "\n",
    "def get_borough(x):\n",
    "    if x.Borough == \"Bx\":\n",
    "        return \"The Bronx\"\n",
    "    elif x.Borough == \"Q\":\n",
    "        return \"Queens\"\n",
    "    elif x.Borough == \"M\":\n",
    "        return \"Manhattan\"\n",
    "    else:\n",
    "        return \"Brooklyn\"\n",
    "    \n",
    "closures['Borough'] = closures.apply(get_borough, axis=1)\n",
    "\n",
    "closures['Station'] = closures['Station'].str.replace(r\" \",\"\", regex=True)\n",
    "closures['Station'] = closures['Station'].str.replace(\"\\n\",\"\")\n",
    "closures.shape\n",
    "\n",
    "# def fix_empty_dates(x):\n",
    "#     if x['Opened'] == (\"\"):\n",
    "#         return \"Closed\"\n",
    "#     else:\n",
    "#         return x['Opened']\n",
    "# closures['Opened'] = closures.apply(fix_empty_dates, axis=1)\n",
    "\n",
    "# closures['Opened'] = closures['Opened'].str.replace(r\".*2018$\",\"Closed\",regex=True)\n",
    "\n",
    "# def fix_other_dates(x):\n",
    "#     if x['Opened'] == (\"Closed\"):\n",
    "#         return \"Closed\"\n",
    "#     else:\n",
    "#         return \"Open\"\n",
    "# closures['Opened'] = closures.apply(fix_other_dates, axis=1)\n",
    "\n",
    "# merged_df = df.merge(closures, on=['Station','Borough'], how='outer')\n",
    "\n",
    "# def get_open(x):\n",
    "#     if x['Opened'] == 'Closed':\n",
    "#         return 'closed'\n",
    "#     else:\n",
    "#         return 'open'\n",
    "# merged_df['Opened'] = merged_df.apply(get_open, axis=1)\n",
    "\n",
    "merged_df.head()"
   ]
  },
  {
   "cell_type": "code",
   "execution_count": 577,
   "metadata": {},
   "outputs": [
    {
     "data": {
      "text/html": [
       "<div>\n",
       "<style scoped>\n",
       "    .dataframe tbody tr th:only-of-type {\n",
       "        vertical-align: middle;\n",
       "    }\n",
       "\n",
       "    .dataframe tbody tr th {\n",
       "        vertical-align: top;\n",
       "    }\n",
       "\n",
       "    .dataframe thead th {\n",
       "        text-align: right;\n",
       "    }\n",
       "</style>\n",
       "<table border=\"1\" class=\"dataframe\">\n",
       "  <thead>\n",
       "    <tr style=\"text-align: right;\">\n",
       "      <th></th>\n",
       "      <th>Station</th>\n",
       "      <th>lines</th>\n",
       "      <th>Borough</th>\n",
       "      <th>Rank</th>\n",
       "      <th>2013</th>\n",
       "      <th>2014</th>\n",
       "      <th>2015</th>\n",
       "      <th>2016</th>\n",
       "      <th>2017</th>\n",
       "      <th>2018</th>\n",
       "      <th>17-18 change</th>\n",
       "    </tr>\n",
       "  </thead>\n",
       "  <tbody>\n",
       "    <tr>\n",
       "      <th>0</th>\n",
       "      <td>138St-GrandConcourse</td>\n",
       "      <td>45</td>\n",
       "      <td>The Bronx</td>\n",
       "      <td>365</td>\n",
       "      <td>957984.0</td>\n",
       "      <td>1033559.0</td>\n",
       "      <td>1056380.0</td>\n",
       "      <td>1070024.0</td>\n",
       "      <td>1036746.0</td>\n",
       "      <td>944598</td>\n",
       "      <td>-92148.0</td>\n",
       "    </tr>\n",
       "    <tr>\n",
       "      <th>1</th>\n",
       "      <td>149St-GrandConcourse</td>\n",
       "      <td>245</td>\n",
       "      <td>The Bronx</td>\n",
       "      <td>121</td>\n",
       "      <td>4427399.0</td>\n",
       "      <td>4536888.0</td>\n",
       "      <td>4424754.0</td>\n",
       "      <td>4381900.0</td>\n",
       "      <td>4255015.0</td>\n",
       "      <td>3972763</td>\n",
       "      <td>-282252.0</td>\n",
       "    </tr>\n",
       "    <tr>\n",
       "      <th>2</th>\n",
       "      <td>161St-YankeeStadium</td>\n",
       "      <td>BD4</td>\n",
       "      <td>The Bronx</td>\n",
       "      <td>38</td>\n",
       "      <td>8766012.0</td>\n",
       "      <td>8961029.0</td>\n",
       "      <td>8922188.0</td>\n",
       "      <td>8784407.0</td>\n",
       "      <td>8596506.0</td>\n",
       "      <td>8392290</td>\n",
       "      <td>-204216.0</td>\n",
       "    </tr>\n",
       "    <tr>\n",
       "      <th>3</th>\n",
       "      <td>167St</td>\n",
       "      <td>4</td>\n",
       "      <td>The Bronx</td>\n",
       "      <td>165</td>\n",
       "      <td>3081534.0</td>\n",
       "      <td>3067345.0</td>\n",
       "      <td>3180274.0</td>\n",
       "      <td>3179087.0</td>\n",
       "      <td>2954228.0</td>\n",
       "      <td>2933140</td>\n",
       "      <td>-21088.0</td>\n",
       "    </tr>\n",
       "    <tr>\n",
       "      <th>4</th>\n",
       "      <td>167St</td>\n",
       "      <td>BD</td>\n",
       "      <td>The Bronx</td>\n",
       "      <td>231</td>\n",
       "      <td>3091289.0</td>\n",
       "      <td>3245977.0</td>\n",
       "      <td>3295032.0</td>\n",
       "      <td>3365748.0</td>\n",
       "      <td>3293451.0</td>\n",
       "      <td>2022919</td>\n",
       "      <td>-1270532.0</td>\n",
       "    </tr>\n",
       "  </tbody>\n",
       "</table>\n",
       "</div>"
      ],
      "text/plain": [
       "                Station lines    Borough  Rank       2013       2014  \\\n",
       "0  138St-GrandConcourse  45    The Bronx  365   957984.0   1033559.0   \n",
       "1  149St-GrandConcourse  245   The Bronx  121   4427399.0  4536888.0   \n",
       "2  161St-YankeeStadium   BD4   The Bronx  38    8766012.0  8961029.0   \n",
       "3  167St                 4     The Bronx  165   3081534.0  3067345.0   \n",
       "4  167St                 BD    The Bronx  231   3091289.0  3245977.0   \n",
       "\n",
       "        2015       2016       2017     2018  17-18 change  \n",
       "0  1056380.0  1070024.0  1036746.0  944598  -92148.0       \n",
       "1  4424754.0  4381900.0  4255015.0  3972763 -282252.0      \n",
       "2  8922188.0  8784407.0  8596506.0  8392290 -204216.0      \n",
       "3  3180274.0  3179087.0  2954228.0  2933140 -21088.0       \n",
       "4  3295032.0  3365748.0  3293451.0  2022919 -1270532.0     "
      ]
     },
     "execution_count": 577,
     "metadata": {},
     "output_type": "execute_result"
    }
   ],
   "source": [
    "response = requests.get(\"http://web.mta.info/nyct/facts/ridership/ridership_sub_annual.htm\")\n",
    "doc = BeautifulSoup(response.text)\n",
    "\n",
    "stations = []\n",
    "lines = \"\"\n",
    "for row in doc.find_all(\"tr\")[4:]:\n",
    "    station = {}\n",
    "    total = \"\"\n",
    "    try:\n",
    "        \n",
    "        station['Station'] = row.find_all(\"td\")[0].text.strip()        \n",
    "        try: \n",
    "            for pic in row.find(\"td\").find(\"div\").find_all(\"img\"):\n",
    "                one = pic['alt'].split(\" \")[0]\n",
    "                total = total + one\n",
    "                station['lines'] = total\n",
    "        except:\n",
    "            pass\n",
    "\n",
    "        station['2013'] = row.find_all(\"td\")[1].text\n",
    "        station['2014'] = row.find_all(\"td\")[2].text\n",
    "        station['2015'] = row.find_all(\"td\")[3].text\n",
    "        station['2016'] = row.find_all(\"td\")[4].text\n",
    "        station['2017'] = row.find_all(\"td\")[5].text\n",
    "        station['2018'] = row.find_all(\"td\")[6].text.strip()\n",
    "        station['Rank'] = row.find_all(\"td\")[9].text\n",
    "        station['Borough'] = row.find_previous(\"td\", colspan=\"10\").text\n",
    "        \n",
    "#         if row.find(\"a\") != None:\n",
    "#             station['wasClosed'] = True\n",
    "#         else:\n",
    "#             station['open/closed'] = False\n",
    "        \n",
    "        stations.append(station)\n",
    "    except: pass\n",
    "    \n",
    "df = pd.DataFrame(stations, columns=['Station','lines','Borough','Rank','2013','2014','2015','2016','2017','2018'])\n",
    "df = df.dropna()\n",
    "\n",
    "## Changing the numbers to actual numbers\n",
    "cols = ['2013', '2014','2015','2016','2017','2018']\n",
    "df[cols] = df[cols].apply(lambda x: pd.to_numeric(x.astype(str).str.replace(',',''), errors='coerce'))\n",
    "df.Rank = df.Rank.astype(int)\n",
    "\n",
    "def get_change(x):\n",
    "    return x['2018'] - x['2017']\n",
    "\n",
    "df['17-18 change'] = df.apply(get_change, axis=1)\n",
    "\n",
    "df['Station'] = df['Station'].str.replace(r\" \",\"\", regex=True)\n",
    "df['Station'] = df['Station'].str.replace(\"\\n\",\"\")\n",
    "\n",
    "df.to_csv('data/scraped_subway_ridership.csv', index=False)\n",
    "\n",
    "df.head()"
   ]
  },
  {
   "cell_type": "code",
   "execution_count": 535,
   "metadata": {},
   "outputs": [],
   "source": [
    "# merged_df[merged_df.Station.str.contains(\"Smith\")]"
   ]
  },
  {
   "cell_type": "code",
   "execution_count": 536,
   "metadata": {},
   "outputs": [],
   "source": [
    "# merged_df.tail()"
   ]
  },
  {
   "cell_type": "code",
   "execution_count": 537,
   "metadata": {
    "scrolled": true
   },
   "outputs": [],
   "source": [
    "# def fix_empty_dates(x):\n",
    "#     if x['Opened'] == (\"\"):\n",
    "#         return \"Closed\"\n",
    "#     else:\n",
    "#         return x['Opened']\n",
    "# closures['Opened'] = closures.apply(fix_empty_dates, axis=1)\n",
    "\n",
    "# closures['Opened'] = closures['Opened'].str.replace(r\".*2018$\",\"Closed\",regex=True)\n",
    "\n",
    "# def fix_other_dates(x):\n",
    "#     if x['Opened'] == (\"Closed\"):\n",
    "#         return \"Closed\"\n",
    "#     else:\n",
    "#         return \"Open\"\n",
    "# closures['Opened'] = closures.apply(fix_other_dates, axis=1)\n",
    "\n",
    "# merged_df = df.merge(closures, on=['Station','lines','Borough'], how='outer')\n",
    "\n",
    "# # def get_open(x):\n",
    "# #     if x['Opened'] == 'Closed':\n",
    "# #         return 'closed'\n",
    "# #     else:\n",
    "# #         return 'open'\n",
    "# # merged_df['Opened'] = merged_df.apply(get_open, axis=1)\n",
    "\n",
    "# merged_df.shape"
   ]
  },
  {
   "cell_type": "code",
   "execution_count": 578,
   "metadata": {
    "scrolled": true
   },
   "outputs": [
    {
     "data": {
      "text/html": [
       "<div>\n",
       "<style scoped>\n",
       "    .dataframe tbody tr th:only-of-type {\n",
       "        vertical-align: middle;\n",
       "    }\n",
       "\n",
       "    .dataframe tbody tr th {\n",
       "        vertical-align: top;\n",
       "    }\n",
       "\n",
       "    .dataframe thead th {\n",
       "        text-align: right;\n",
       "    }\n",
       "</style>\n",
       "<table border=\"1\" class=\"dataframe\">\n",
       "  <thead>\n",
       "    <tr style=\"text-align: right;\">\n",
       "      <th></th>\n",
       "      <th>Station</th>\n",
       "      <th>lines</th>\n",
       "      <th>Borough</th>\n",
       "      <th>Rank</th>\n",
       "      <th>2013</th>\n",
       "      <th>2014</th>\n",
       "      <th>2015</th>\n",
       "      <th>2016</th>\n",
       "      <th>2017</th>\n",
       "      <th>2018</th>\n",
       "      <th>17-18 change</th>\n",
       "    </tr>\n",
       "  </thead>\n",
       "  <tbody>\n",
       "    <tr>\n",
       "      <th>0</th>\n",
       "      <td>138St-GrandConcourse</td>\n",
       "      <td>45</td>\n",
       "      <td>The Bronx</td>\n",
       "      <td>365</td>\n",
       "      <td>957984.0</td>\n",
       "      <td>1033559.0</td>\n",
       "      <td>1056380.0</td>\n",
       "      <td>1070024.0</td>\n",
       "      <td>1036746.0</td>\n",
       "      <td>944598</td>\n",
       "      <td>-92148.0</td>\n",
       "    </tr>\n",
       "    <tr>\n",
       "      <th>1</th>\n",
       "      <td>149St-GrandConcourse</td>\n",
       "      <td>245</td>\n",
       "      <td>The Bronx</td>\n",
       "      <td>121</td>\n",
       "      <td>4427399.0</td>\n",
       "      <td>4536888.0</td>\n",
       "      <td>4424754.0</td>\n",
       "      <td>4381900.0</td>\n",
       "      <td>4255015.0</td>\n",
       "      <td>3972763</td>\n",
       "      <td>-282252.0</td>\n",
       "    </tr>\n",
       "    <tr>\n",
       "      <th>2</th>\n",
       "      <td>161St-YankeeStadium</td>\n",
       "      <td>BD4</td>\n",
       "      <td>The Bronx</td>\n",
       "      <td>38</td>\n",
       "      <td>8766012.0</td>\n",
       "      <td>8961029.0</td>\n",
       "      <td>8922188.0</td>\n",
       "      <td>8784407.0</td>\n",
       "      <td>8596506.0</td>\n",
       "      <td>8392290</td>\n",
       "      <td>-204216.0</td>\n",
       "    </tr>\n",
       "    <tr>\n",
       "      <th>3</th>\n",
       "      <td>167St</td>\n",
       "      <td>4</td>\n",
       "      <td>The Bronx</td>\n",
       "      <td>165</td>\n",
       "      <td>3081534.0</td>\n",
       "      <td>3067345.0</td>\n",
       "      <td>3180274.0</td>\n",
       "      <td>3179087.0</td>\n",
       "      <td>2954228.0</td>\n",
       "      <td>2933140</td>\n",
       "      <td>-21088.0</td>\n",
       "    </tr>\n",
       "    <tr>\n",
       "      <th>4</th>\n",
       "      <td>167St</td>\n",
       "      <td>BD</td>\n",
       "      <td>The Bronx</td>\n",
       "      <td>231</td>\n",
       "      <td>3091289.0</td>\n",
       "      <td>3245977.0</td>\n",
       "      <td>3295032.0</td>\n",
       "      <td>3365748.0</td>\n",
       "      <td>3293451.0</td>\n",
       "      <td>2022919</td>\n",
       "      <td>-1270532.0</td>\n",
       "    </tr>\n",
       "  </tbody>\n",
       "</table>\n",
       "</div>"
      ],
      "text/plain": [
       "                Station lines    Borough  Rank       2013       2014  \\\n",
       "0  138St-GrandConcourse  45    The Bronx  365   957984.0   1033559.0   \n",
       "1  149St-GrandConcourse  245   The Bronx  121   4427399.0  4536888.0   \n",
       "2  161St-YankeeStadium   BD4   The Bronx  38    8766012.0  8961029.0   \n",
       "3  167St                 4     The Bronx  165   3081534.0  3067345.0   \n",
       "4  167St                 BD    The Bronx  231   3091289.0  3245977.0   \n",
       "\n",
       "        2015       2016       2017     2018  17-18 change  \n",
       "0  1056380.0  1070024.0  1036746.0  944598  -92148.0       \n",
       "1  4424754.0  4381900.0  4255015.0  3972763 -282252.0      \n",
       "2  8922188.0  8784407.0  8596506.0  8392290 -204216.0      \n",
       "3  3180274.0  3179087.0  2954228.0  2933140 -21088.0       \n",
       "4  3295032.0  3365748.0  3293451.0  2022919 -1270532.0     "
      ]
     },
     "execution_count": 578,
     "metadata": {},
     "output_type": "execute_result"
    }
   ],
   "source": [
    "dtypes = {\n",
    "    'Borough': 'category'\n",
    "}\n",
    "\n",
    "df = pd.read_csv('data/scraped_subway_ridership.csv', dtype=dtypes)\n",
    "df.head()"
   ]
  },
  {
   "cell_type": "markdown",
   "metadata": {},
   "source": [
    "## Total loss by year, boroughs condensed"
   ]
  },
  {
   "cell_type": "code",
   "execution_count": 539,
   "metadata": {},
   "outputs": [
    {
     "data": {
      "text/plain": [
       "<Figure size 432x288 with 0 Axes>"
      ]
     },
     "metadata": {},
     "output_type": "display_data"
    },
    {
     "data": {
      "image/png": "[encoded data removed]",
      "text/plain": [
       "<Figure size 432x288 with 1 Axes>"
      ]
     },
     "metadata": {},
     "output_type": "display_data"
    }
   ],
   "source": [
    "fig = plt.figure()\n",
    "total = {}\n",
    "total['index'] = [0]\n",
    "total['13'] = df['2013'].sum()\n",
    "total['14'] = df['2014'].sum()\n",
    "total['15'] = df['2015'].sum()\n",
    "total['16'] = df['2016'].sum()\n",
    "total['17'] = df['2017'].sum()\n",
    "total['18'] = df['2018'].sum()\n",
    "total = pd.DataFrame(total)\n",
    "total = total.transpose()\n",
    "ax = total.tail(6).plot(kind='line', legend=False)\n",
    "ax.set_title('Total Subway Ridership')\n",
    "# ax.set_ylim([1670000000, 1780000000])\n",
    "ax.set_yticklabels(['','1.68b','1.70b','1.72b','1.74b','1.76b','1.78b'])\n",
    "ax.set_xticklabels(['2013','2014','2015','2016','2017','2018'], rotation='horizontal')\n",
    "# ax.patch.set_facecolor('lightgray')\n",
    "\n",
    "# # plt.plot(range(10))\n",
    "# plt.axvspan(4, 5, color='goldenrod', alpha=0.3)\n",
    "# plt.show()\n",
    "\n",
    "\n",
    "plt.savefig(\"C:/Users/sawye/Desktop/reporting/enterprise/total_ridership_drop.svg\", bbox_inches='tight')"
   ]
  },
  {
   "cell_type": "code",
   "execution_count": 540,
   "metadata": {
    "scrolled": false
   },
   "outputs": [
    {
     "data": {
      "text/plain": [
       "[]"
      ]
     },
     "execution_count": 540,
     "metadata": {},
     "output_type": "execute_result"
    },
    {
     "data": {
      "image/png": "[encoded data removed]",
      "text/plain": [
       "<Figure size 720x360 with 1 Axes>"
      ]
     },
     "metadata": {},
     "output_type": "display_data"
    }
   ],
   "source": [
    "total={}\n",
    "total['index'] = [0]\n",
    "total['13-14'] = (df['2014'].sum() - df['2013'].sum())\n",
    "total['14-15'] = (df['2015'].sum() - df['2014'].sum()) \n",
    "total['15-16'] = (df['2016'].sum() - df['2015'].sum())\n",
    "total['16-17'] = (df['2017'].sum() - df['2016'].sum())\n",
    "total['17-18'] = (df['2018'].sum() - df['2017'].sum())\n",
    "total = pd.DataFrame(total)\n",
    "total = total.transpose()\n",
    "ax=total.tail(5).plot(kind='bar',legend=False, figsize=(10,5))\n",
    "# ax.set_yticklabels(['','','-40m','-20m','0','20m','40m'])\n",
    "ax.set_xticklabels('')\n",
    "\n",
    "# plt.savefig(\"images/header_image.pdf\")"
   ]
  },
  {
   "cell_type": "markdown",
   "metadata": {},
   "source": [
    "##  Total ridership by borough"
   ]
  },
  {
   "cell_type": "code",
   "execution_count": 542,
   "metadata": {},
   "outputs": [
    {
     "data": {
      "text/html": [
       "<div>\n",
       "<style scoped>\n",
       "    .dataframe tbody tr th:only-of-type {\n",
       "        vertical-align: middle;\n",
       "    }\n",
       "\n",
       "    .dataframe tbody tr th {\n",
       "        vertical-align: top;\n",
       "    }\n",
       "\n",
       "    .dataframe thead th {\n",
       "        text-align: right;\n",
       "    }\n",
       "</style>\n",
       "<table border=\"1\" class=\"dataframe\">\n",
       "  <thead>\n",
       "    <tr style=\"text-align: right;\">\n",
       "      <th></th>\n",
       "      <th>Rank</th>\n",
       "      <th>2013</th>\n",
       "      <th>2014</th>\n",
       "      <th>2015</th>\n",
       "      <th>2016</th>\n",
       "      <th>2017</th>\n",
       "      <th>2018</th>\n",
       "      <th>17-18 change</th>\n",
       "    </tr>\n",
       "    <tr>\n",
       "      <th>Borough</th>\n",
       "      <th></th>\n",
       "      <th></th>\n",
       "      <th></th>\n",
       "      <th></th>\n",
       "      <th></th>\n",
       "      <th></th>\n",
       "      <th></th>\n",
       "      <th></th>\n",
       "    </tr>\n",
       "  </thead>\n",
       "  <tbody>\n",
       "    <tr>\n",
       "      <th>Brooklyn</th>\n",
       "      <td>39254</td>\n",
       "      <td>372392182.0</td>\n",
       "      <td>382724843.0</td>\n",
       "      <td>387548598.0</td>\n",
       "      <td>384540220.0</td>\n",
       "      <td>379372550.0</td>\n",
       "      <td>370231302</td>\n",
       "      <td>-9141248.0</td>\n",
       "    </tr>\n",
       "    <tr>\n",
       "      <th>Manhattan</th>\n",
       "      <td>14537</td>\n",
       "      <td>940342922.0</td>\n",
       "      <td>965303064.0</td>\n",
       "      <td>970332468.0</td>\n",
       "      <td>966394667.0</td>\n",
       "      <td>955572737.0</td>\n",
       "      <td>936516980</td>\n",
       "      <td>-20301212.0</td>\n",
       "    </tr>\n",
       "    <tr>\n",
       "      <th>Queens</th>\n",
       "      <td>18895</td>\n",
       "      <td>245692630.0</td>\n",
       "      <td>250683329.0</td>\n",
       "      <td>252328123.0</td>\n",
       "      <td>252780951.0</td>\n",
       "      <td>243113483.0</td>\n",
       "      <td>234085767</td>\n",
       "      <td>-9027716.0</td>\n",
       "    </tr>\n",
       "    <tr>\n",
       "      <th>The Bronx</th>\n",
       "      <td>17414</td>\n",
       "      <td>149111695.0</td>\n",
       "      <td>152510555.0</td>\n",
       "      <td>152317861.0</td>\n",
       "      <td>153079012.0</td>\n",
       "      <td>149220838.0</td>\n",
       "      <td>139238932</td>\n",
       "      <td>-9981906.0</td>\n",
       "    </tr>\n",
       "  </tbody>\n",
       "</table>\n",
       "</div>"
      ],
      "text/plain": [
       "            Rank         2013         2014         2015         2016  \\\n",
       "Borough                                                                \n",
       "Brooklyn   39254  372392182.0  382724843.0  387548598.0  384540220.0   \n",
       "Manhattan  14537  940342922.0  965303064.0  970332468.0  966394667.0   \n",
       "Queens     18895  245692630.0  250683329.0  252328123.0  252780951.0   \n",
       "The Bronx  17414  149111695.0  152510555.0  152317861.0  153079012.0   \n",
       "\n",
       "                  2017       2018  17-18 change  \n",
       "Borough                                          \n",
       "Brooklyn   379372550.0  370231302 -9141248.0     \n",
       "Manhattan  955572737.0  936516980 -20301212.0    \n",
       "Queens     243113483.0  234085767 -9027716.0     \n",
       "The Bronx  149220838.0  139238932 -9981906.0     "
      ]
     },
     "execution_count": 542,
     "metadata": {},
     "output_type": "execute_result"
    }
   ],
   "source": [
    "df.groupby('Borough').sum()"
   ]
  },
  {
   "cell_type": "code",
   "execution_count": 543,
   "metadata": {},
   "outputs": [
    {
     "data": {
      "text/plain": [
       "CategoricalIndex(['Brooklyn', 'Manhattan', 'Queens', 'The Bronx'], categories=['Brooklyn', 'Manhattan', 'Queens', 'The Bronx'], ordered=False, dtype='category')"
      ]
     },
     "execution_count": 543,
     "metadata": {},
     "output_type": "execute_result"
    }
   ],
   "source": [
    "df.Borough.value_counts().keys()"
   ]
  },
  {
   "cell_type": "code",
   "execution_count": 544,
   "metadata": {
    "scrolled": false
   },
   "outputs": [
    {
     "data": {
      "image/png": "[encoded data removed]",
      "text/plain": [
       "<Figure size 504x360 with 1 Axes>"
      ]
     },
     "metadata": {},
     "output_type": "display_data"
    }
   ],
   "source": [
    "ax = df.groupby('Borough').sum().plot(kind='bar', y=['2013','2014','2015','2016','2017','2018'], figsize=(7, 5), legend=False)\n",
    "ax.set_xlabel('')\n",
    "ax.set_title('Total Ridership is Down Across the Boroughs')\n",
    "ax.set_xticklabels(labels=df.Borough.value_counts().keys(),rotation='horizontal')\n",
    "ax.set_yticklabels([0,200,400,600,800,'100 million'])\n",
    "\n",
    "ax.spines['top'].set_visible(False)\n",
    "ax.spines['right'].set_visible(False)\n",
    "ax.spines['bottom'].set_visible(False)\n",
    "ax.spines['left'].set_visible(False)\n",
    "ax.grid(color='lightgray', linestyle='-', linewidth=1.5)"
   ]
  },
  {
   "cell_type": "markdown",
   "metadata": {},
   "source": [
    "## Total loss per borough per year"
   ]
  },
  {
   "cell_type": "code",
   "execution_count": 669,
   "metadata": {},
   "outputs": [
    {
     "data": {
      "text/html": [
       "<div>\n",
       "<style scoped>\n",
       "    .dataframe tbody tr th:only-of-type {\n",
       "        vertical-align: middle;\n",
       "    }\n",
       "\n",
       "    .dataframe tbody tr th {\n",
       "        vertical-align: top;\n",
       "    }\n",
       "\n",
       "    .dataframe thead th {\n",
       "        text-align: right;\n",
       "    }\n",
       "</style>\n",
       "<table border=\"1\" class=\"dataframe\">\n",
       "  <thead>\n",
       "    <tr style=\"text-align: right;\">\n",
       "      <th></th>\n",
       "      <th>borough</th>\n",
       "      <th>13-14</th>\n",
       "      <th>14-15</th>\n",
       "      <th>15-16</th>\n",
       "      <th>16-17</th>\n",
       "      <th>17-18</th>\n",
       "      <th>Borough Category</th>\n",
       "    </tr>\n",
       "  </thead>\n",
       "  <tbody>\n",
       "    <tr>\n",
       "      <th>1</th>\n",
       "      <td>Manhattan</td>\n",
       "      <td>24960142.0</td>\n",
       "      <td>5029404.0</td>\n",
       "      <td>-3937801.0</td>\n",
       "      <td>-10821930.0</td>\n",
       "      <td>-19055757.0</td>\n",
       "      <td>1</td>\n",
       "    </tr>\n",
       "    <tr>\n",
       "      <th>0</th>\n",
       "      <td>Brooklyn</td>\n",
       "      <td>10332661.0</td>\n",
       "      <td>4823755.0</td>\n",
       "      <td>-3008378.0</td>\n",
       "      <td>-5167670.0</td>\n",
       "      <td>-9141248.0</td>\n",
       "      <td>2</td>\n",
       "    </tr>\n",
       "    <tr>\n",
       "      <th>2</th>\n",
       "      <td>Queens</td>\n",
       "      <td>4990699.0</td>\n",
       "      <td>1644794.0</td>\n",
       "      <td>452828.0</td>\n",
       "      <td>-9667468.0</td>\n",
       "      <td>-9027716.0</td>\n",
       "      <td>3</td>\n",
       "    </tr>\n",
       "    <tr>\n",
       "      <th>3</th>\n",
       "      <td>The Bronx</td>\n",
       "      <td>3398860.0</td>\n",
       "      <td>-192694.0</td>\n",
       "      <td>761151.0</td>\n",
       "      <td>-3858174.0</td>\n",
       "      <td>-9981906.0</td>\n",
       "      <td>4</td>\n",
       "    </tr>\n",
       "  </tbody>\n",
       "</table>\n",
       "</div>"
      ],
      "text/plain": [
       "     borough       13-14      14-15      15-16       16-17       17-18  \\\n",
       "1  Manhattan  24960142.0  5029404.0 -3937801.0 -10821930.0 -19055757.0   \n",
       "0  Brooklyn   10332661.0  4823755.0 -3008378.0 -5167670.0  -9141248.0    \n",
       "2  Queens     4990699.0   1644794.0  452828.0  -9667468.0  -9027716.0    \n",
       "3  The Bronx  3398860.0  -192694.0   761151.0  -3858174.0  -9981906.0    \n",
       "\n",
       "   Borough Category  \n",
       "1  1                 \n",
       "0  2                 \n",
       "2  3                 \n",
       "3  4                 "
      ]
     },
     "execution_count": 669,
     "metadata": {},
     "output_type": "execute_result"
    }
   ],
   "source": [
    "## sum of each borough dataframe\n",
    "df2={}\n",
    "df2['borough'] = ['Brooklyn','Manhattan','Queens','The Bronx']\n",
    "df2['13-14'] = (df.groupby('Borough')['2014'].sum().values - df.groupby('Borough')['2013'].sum().values)\n",
    "df2['14-15'] = (df.groupby('Borough')['2015'].sum().values - df.groupby('Borough')['2014'].sum().values)\n",
    "df2['15-16'] = (df.groupby('Borough')['2016'].sum().values - df.groupby('Borough')['2015'].sum().values)\n",
    "df2['16-17'] = (df.groupby('Borough')['2017'].sum().values - df.groupby('Borough')['2016'].sum().values)\n",
    "df2['17-18'] = (df.groupby('Borough')['2018'].sum().values - df.groupby('Borough')['2017'].sum().values)\n",
    "df2 = pd.DataFrame(df2)\n",
    "\n",
    "def cat_boro(x):\n",
    "    if x.borough == \"Manhattan\":\n",
    "        return 1\n",
    "    elif x.borough == \"Brooklyn\":\n",
    "        return 2\n",
    "    elif x.borough == \"Queens\":\n",
    "        return 3\n",
    "    else:\n",
    "        return 4\n",
    "df2['Borough Category'] = df2.apply(cat_boro, axis=1)\n",
    "\n",
    "df2 = df2.sort_values('Borough Category')\n",
    "\n",
    "df2.head()\n",
    "# df.groupby('Borough').Station.count().values"
   ]
  },
  {
   "cell_type": "code",
   "execution_count": 667,
   "metadata": {},
   "outputs": [
    {
     "data": {
      "image/png": "[encoded data removed]",
      "text/plain": [
       "<Figure size 720x360 with 1 Axes>"
      ]
     },
     "metadata": {},
     "output_type": "display_data"
    }
   ],
   "source": [
    "ax = df2.plot(kind='bar', x='borough', y=['13-14','14-15','15-16','16-17','17-18'], figsize=(10,5))\n",
    "ax.set_xlabel('')\n",
    "ax.set_yticklabels(['','-20m','-10m','0','10m','20m'])\n",
    "ax.set_xticklabels(df2.borough, rotation='horizontal')\n",
    "ax.spines['top'].set_visible(False)\n",
    "ax.spines['right'].set_visible(False)\n",
    "ax.spines['bottom'].set_visible(False)\n",
    "ax.spines['left'].set_visible(False)\n",
    "\n",
    "plt.savefig(\"img/annual_ridership_by_borough_2.svg\", bbox_inches='tight')"
   ]
  },
  {
   "cell_type": "code",
   "execution_count": 682,
   "metadata": {},
   "outputs": [
    {
     "data": {
      "text/plain": [
       "0    #E5E5E5\n",
       "1    #E5E5E5\n",
       "2    #E5E5E5\n",
       "3    #E5E5E5\n",
       "dtype: object"
      ]
     },
     "execution_count": 682,
     "metadata": {},
     "output_type": "execute_result"
    }
   ],
   "source": [
    "def build_colors(x):\n",
    "    if x['13-14'] > 0 :\n",
    "        return '#E5E5E5'\n",
    "    else:\n",
    "        return '#FD9E9A'\n",
    "colors = df2.reset_index().apply(build_colors, axis=1)\n",
    "colors"
   ]
  },
  {
   "cell_type": "code",
   "execution_count": 731,
   "metadata": {},
   "outputs": [
    {
     "data": {
      "image/png": "[encoded data removed]",
      "text/plain": [
       "<Figure size 504x216 with 1 Axes>"
      ]
     },
     "metadata": {},
     "output_type": "display_data"
    }
   ],
   "source": [
    "fig, ax = plt.subplots(figsize=(7,3))\n",
    "ax.set_xlim([-1,7])\n",
    "ax.set_ylim([-28000000, 33000000])\n",
    "ax.xaxis.tick_top()\n",
    "ax.set_xticklabels(['','Manhattan','','Brooklyn','','Queens','','The Bronx'])\n",
    "# ax.set_yticklabels(['','-20m','-10m','0','10m','20m'])\n",
    "# ax.set_title(\"The MTA's Summer of Hell has passed \\n but the ridership is still in decline\", ha='center')\n",
    "\n",
    "def build_colors(x):\n",
    "    if x['13-14'] < 0 :\n",
    "        return 'F07B7B'\n",
    "    else:\n",
    "        return '5580B6'\n",
    "colors = df2.reset_index().apply(build_colors, axis=1)\n",
    "ax.vlines(ymin=0, ymax=df2['13-14'], x=[(0-.4), (2-.4), (4-.4), (6-.4)], color='gray')\n",
    "legend = [ax.scatter(y=df2['13-14'], x=[(0-.4), (2-.4), (4-.4), (6-.4)], s=75, color=(\"#\"+colors))]\n",
    "\n",
    "def build_colors(x):\n",
    "    if x['14-15'] < 0 :\n",
    "        return 'F07B7B'\n",
    "    else:\n",
    "        return '5580B6'\n",
    "colors = df2.reset_index().apply(build_colors, axis=1)\n",
    "ax.vlines(ymin=0, ymax=df2['14-15'], x=[(0-.2), (2-.2), (4-.2), (6-.2)], color='gray')\n",
    "legend = [ax.scatter(y=df2['14-15'], x=[(0-.2), (2-.2), (4-.2), (6-.2)], s=75, color=(\"#\"+colors))]\n",
    "\n",
    "def build_colors(x):\n",
    "    if x['15-16'] < 0 :\n",
    "        return 'F07B7B'\n",
    "    else:\n",
    "        return '5580B6'\n",
    "colors = df2.reset_index().apply(build_colors, axis=1)\n",
    "ax.vlines(ymin=0, ymax=df2['15-16'], x=[(0), (2), (4), (6)], color='gray')\n",
    "legend = [ax.scatter(y=df2['15-16'], x=[(0), (2), (4), (6)], s=75, color=(\"#\"+colors))]\n",
    "\n",
    "def build_colors(x):\n",
    "    if x['16-17'] < 0 :\n",
    "        return 'F07B7B'\n",
    "    else:\n",
    "        return '5580B6'\n",
    "colors = df2.reset_index().apply(build_colors, axis=1)\n",
    "ax.vlines(ymin=df2['16-17'], ymax=0, x=[(0+.2), (2+.2), (4+.2), (6+.2)], color='gray')\n",
    "legend = [ax.scatter(y=df2['16-17'], x=[(0+.2), (2+.2), (4+.2), (6+.2)], s=75, color=(\"#\"+colors))]\n",
    "\n",
    "def build_colors(x):\n",
    "    if x['17-18'] < 0 :\n",
    "        return 'F07B7B'\n",
    "    else:\n",
    "        return '5580B6'\n",
    "colors = df2.reset_index().apply(build_colors, axis=1)\n",
    "ax.vlines(ymin=df2['17-18'], ymax=0, x=[(0+.4), (2+.4), (4+.4), (6+.4)], color='gray')\n",
    "legend = [ax.scatter(y=df2['17-18'], x=[(0+.4), (2+.4), (4+.4), (6+.4)], s=75, color=(\"#\"+colors))]\n",
    "\n",
    "\n",
    "# three_four = mpatches.Patch(color='#5E8066', label='2013-14')\n",
    "# four_five = mpatches.Patch(color='#8EBF99', label='2014-15')\n",
    "# five_six = mpatches.Patch(color='#7bccc4', label='2015-16')\n",
    "# six_seven = mpatches.Patch(color='#43a2ca', label='2016-17')\n",
    "# seven_eight = mpatches.Patch(color='#2c7bb6', label=\"2017-18\")\n",
    "# ax.legend(handles=[three_four, four_five,five_six,six_seven,seven_eight], bbox_to_anchor=(1, 1))\n",
    "\n",
    "ax.spines['left'].set_visible(False)\n",
    "ax.spines['top'].set_visible(False)\n",
    "ax.spines['right'].set_visible(False)\n",
    "ax.spines['bottom'].set_visible(False)\n",
    "\n",
    "ax.tick_params(axis=u'both', which=u'both',length=0)\n",
    "\n",
    "# plt.figtext(.05,.04,\"Graphic | Sawyer Click\")\n",
    "# plt.figtext(.05,.0,\"Source | MTA\")\n",
    "\n",
    "plt.savefig(\"ugly/annual_drops_by_borough_original.pdf\", bbox_inches='tight')"
   ]
  },
  {
   "cell_type": "code",
   "execution_count": 549,
   "metadata": {
    "scrolled": false
   },
   "outputs": [
    {
     "data": {
      "image/png": "[encoded data removed]",
      "text/plain": [
       "<Figure size 504x216 with 1 Axes>"
      ]
     },
     "metadata": {},
     "output_type": "display_data"
    }
   ],
   "source": [
    "r = [0,1,2,3,4]\n",
    "stacked_raw = {}\n",
    "stacked_raw['index'] = [0, 1, 2, 3]\n",
    "stacked_raw['Gained'] = (df[df['17-18 change'] > 0].groupby('Borough').Station.count())\n",
    "stacked_raw['Lost'] = (df[df['17-18 change'] < 0].groupby('Borough').Station.count())\n",
    "stacked = pd.DataFrame(stacked_raw)\n",
    "\n",
    "ax = stacked.plot(kind='barh', y=['Lost','Gained'], stacked=True, color=['#a82121','#566FA3'], figsize=(7,3))\n",
    "ax.legend( bbox_to_anchor=(.9, .95))\n",
    "ax.set_ylabel('')\n",
    "plt.savefig('img/lost_vs_gained.svg', bbox_inches='tight',transparent=True)"
   ]
  },
  {
   "cell_type": "code",
   "execution_count": 733,
   "metadata": {
    "scrolled": false
   },
   "outputs": [
    {
     "data": {
      "image/png": "[encoded data removed]",
      "text/plain": [
       "<Figure size 720x360 with 1 Axes>"
      ]
     },
     "metadata": {},
     "output_type": "display_data"
    }
   ],
   "source": [
    "df = pd.read_csv('data/scraped_subway_ridership.csv', dtype=dtypes)\n",
    "\n",
    "def cat_boro(x):\n",
    "    if x.Borough == \"Manhattan\":\n",
    "        return 1\n",
    "    elif x.Borough == \"Brooklyn\":\n",
    "        return 2\n",
    "    elif x.Borough == \"Queens\":\n",
    "        return 3\n",
    "    else:\n",
    "        return 4\n",
    "df['Borough Category'] = df.apply(cat_boro, axis=1)\n",
    "\n",
    "# df = df.sort_values('Borough Category', ascending=False)\n",
    "\n",
    "\n",
    "fig, ax = plt.subplots(figsize=(10,5), dpi= 72)    \n",
    "\n",
    "# df['17-18 change'] / \n",
    "sns.stripplot(df['Borough Category'],df['17-18 change'], jitter=.15, size=5, linewidth=.5, alpha=.9, palette=sns.set_palette('pastel'))\n",
    "plt.axhline(0, color='lightgray')\n",
    "# plt.axhline(df[df.Borough == 'Manhattan']['17-18 change'].mean(), xmin=.025, xmax=.225, color='black')\n",
    "# plt.axhline(df[df.Borough == 'Brooklyn']['17-18 change'].mean(), xmin=.265, xmax=.49, color='black')\n",
    "# plt.axhline(df[df.Borough == 'Manhattan']['17-18 change'].mean(), xmin=.525, xmax=.725, color='black')\n",
    "# plt.axhline(df[df.Borough == 'The Bronx']['17-18 change'].mean(), xmin=.75, xmax=.975, color='black')\n",
    "\n",
    "plt.title('Loss Distribution by Station', fontsize=22)\n",
    "ax.set_ylabel('')\n",
    "ax.set_xlabel('')\n",
    "ax.set_xticklabels(['Manhattan','Brooklyn','Queens','The Bronx'])\n",
    "ax.xaxis.set_ticks_position('top')\n",
    "ax.set_yticklabels(['','-3','-2','-1','0','1'])\n",
    "\n",
    "ax.spines['left'].set_visible(False)\n",
    "ax.spines['top'].set_visible(False)\n",
    "ax.spines['right'].set_visible(False)\n",
    "ax.spines['bottom'].set_visible(False)\n",
    "\n",
    "plt.savefig(\"ugly/manhattan_fell_the_hardest_original.pdf\", bbox_inches='tight')"
   ]
  },
  {
   "cell_type": "markdown",
   "metadata": {},
   "source": [
    "# Line by line"
   ]
  },
  {
   "cell_type": "code",
   "execution_count": null,
   "metadata": {},
   "outputs": [],
   "source": [
    "# group the lines and create a new df\n",
    "\n",
    "lines = ['1','2','3','4','5','6','7','A','B','C','D','E','F','G','J','L','M','N','Q','R','S','W','Z']\n",
    "lines_df = []\n",
    "for line in lines:\n",
    "    line_one = df[df.lines.str.contains(line)]\n",
    "    \n",
    "    count = 13\n",
    "    for year in range(0,5):\n",
    "        total = {}\n",
    "        total['line'] = line\n",
    "        new = line_one[f\"20{count + 1}\"].sum()\n",
    "        old = (line_one[f\"20{count}\"].sum())\n",
    "        total['riders'] = ((new - old) / old) * 100\n",
    "        total['years'] = f\"{count}-{count+1}\"\n",
    "        lines_df.append(total)\n",
    "        count = count + 1\n",
    "    \n",
    "lines_df = pd.DataFrame(lines_df)\n",
    "lines_df[lines_df.line == '1'].riders[-1:] > 0 "
   ]
  },
  {
   "cell_type": "markdown",
   "metadata": {},
   "source": [
    "# Lines w/ ridership growth"
   ]
  },
  {
   "cell_type": "code",
   "execution_count": 956,
   "metadata": {
    "scrolled": true
   },
   "outputs": [
    {
     "data": {
      "text/plain": [
       "4      1\n",
       "59     E\n",
       "104    S\n",
       "39     A\n",
       "Name: line, dtype: object"
      ]
     },
     "execution_count": 956,
     "metadata": {},
     "output_type": "execute_result"
    }
   ],
   "source": [
    "positive"
   ]
  },
  {
   "cell_type": "code",
   "execution_count": 955,
   "metadata": {},
   "outputs": [
    {
     "data": {
      "image/png": "[encoded data removed]",
      "text/plain": [
       "<Figure size 1080x504 with 4 Axes>"
      ]
     },
     "metadata": {},
     "output_type": "display_data"
    }
   ],
   "source": [
    "## Working template\n",
    "\n",
    "## FILTER\n",
    "positive = lines_df[(lines_df.years == \"17-18\") & (lines_df.riders > 0)].sort_values('riders', ascending=False).line\n",
    "\n",
    "## For small multiple\n",
    "fig, axes = plt.subplots(nrows=2, ncols=4, sharex=True, sharey=True, figsize=(15,7))\n",
    "axes_list = [item for sublist in axes for item in sublist] \n",
    "\n",
    "for line in positive:\n",
    "    ax = axes_list.pop(0)\n",
    "    \n",
    "    def build_colors(x):\n",
    "        if x.riders < 0:\n",
    "            return 'F07B7B'#red\n",
    "        else:\n",
    "            return '5580B6'#blue\n",
    "    colors = lines_df[lines_df.line == line].reset_index().apply(build_colors, axis=1)\n",
    "    \n",
    "    ax=lines_df[lines_df.line == line].plot(kind='bar',x='years',y='riders', color=\"#\"+colors, ax=ax,legend=False)\n",
    "    \n",
    "    ax.text(3.9, 3.9, f\"{line} line\", size=15,\n",
    "         ha=\"center\", va=\"center\",\n",
    "         bbox=dict(boxstyle=\"square\",\n",
    "                   fc=('#F4D678'),\n",
    "                   )\n",
    "         )\n",
    "    plt.xticks([],[])\n",
    "    \n",
    "    ax.set_xlabel(\"\")\n",
    "    ax.spines['left'].set_visible(False)\n",
    "    ax.spines['top'].set_visible(False)\n",
    "    ax.spines['right'].set_visible(False)\n",
    "\n",
    "for ax in axes_list:\n",
    "    ax.remove()\n",
    "    \n",
    "# plt.savefig(\"ugly/17_18_ridership_gain.pdf\", bbox_inches='tight')"
   ]
  },
  {
   "cell_type": "code",
   "execution_count": 966,
   "metadata": {},
   "outputs": [
    {
     "data": {
      "text/plain": [
       "64    F\n",
       "44    B\n",
       "29    6\n",
       "79    L\n",
       "54    D\n",
       "Name: line, dtype: object"
      ]
     },
     "execution_count": 966,
     "metadata": {},
     "output_type": "execute_result"
    }
   ],
   "source": []
  },
  {
   "cell_type": "code",
   "execution_count": 972,
   "metadata": {},
   "outputs": [
    {
     "data": {
      "image/png": "[encoded data removed]",
      "text/plain": [
       "<Figure size 1080x504 with 20 Axes>"
      ]
     },
     "metadata": {},
     "output_type": "display_data"
    }
   ],
   "source": [
    "## Working template\n",
    "\n",
    "## FILTER\n",
    "negative = lines_df[((lines_df.years ==\"17-18\") & (lines_df.riders < 0))].sort_values('riders').line\n",
    "\n",
    "## For small multiple\n",
    "fig, axes = plt.subplots(nrows=5, ncols=4, sharex=True, sharey=True, figsize=(15,7))\n",
    "axes_list = [item for sublist in axes for item in sublist] \n",
    "\n",
    "for line in negative:\n",
    "    ax = axes_list.pop(0)\n",
    "    \n",
    "    def build_colors(x):\n",
    "        if x.riders < 0:\n",
    "            return 'F07B7B'#red\n",
    "        else:\n",
    "            return '5580B6'#blue\n",
    "    colors = lines_df[lines_df.line == line].reset_index().apply(build_colors, axis=1)\n",
    "    \n",
    "    ax=lines_df[lines_df.line == line].plot(kind='bar',x='years',y='riders', color=\"#\"+colors, ax=ax,legend=False)\n",
    "    \n",
    "    ax.text(3.9, 6, f\"{line} line\", size=15,\n",
    "         ha=\"center\", va=\"center\",\n",
    "         bbox=dict(boxstyle=\"square\",\n",
    "                   fc=('#F4D678'),\n",
    "                   )\n",
    "         )\n",
    "    plt.xticks([],[])\n",
    "    \n",
    "    ax.set_xlabel(\"\")\n",
    "    ax.spines['left'].set_visible(False)\n",
    "    ax.spines['top'].set_visible(False)\n",
    "    ax.spines['right'].set_visible(False)\n",
    "\n",
    "# for ax in axes_list:\n",
    "#     ax.remove()\n",
    "    \n",
    "plt.savefig(\"ugly/17_18_ridership_loss_all.svg\", bbox_inches='tight')"
   ]
  },
  {
   "cell_type": "code",
   "execution_count": null,
   "metadata": {},
   "outputs": [],
   "source": []
  },
  {
   "cell_type": "code",
   "execution_count": null,
   "metadata": {},
   "outputs": [],
   "source": [
    "df.to_csv(\"station_annual_ridership.csv\", index=False)"
   ]
  },
  {
   "cell_type": "markdown",
   "metadata": {},
   "source": [
    "\n",
    "<hr>\n",
    "<hr>\n",
    "<hr>\n",
    "\n",
    "## Average weekday ridership\n",
    "`http://web.mta.info/nyct/facts/ridership/ridership_sub.htm`"
   ]
  },
  {
   "cell_type": "code",
   "execution_count": null,
   "metadata": {},
   "outputs": [],
   "source": [
    "response = requests.get(\"http://web.mta.info/nyct/facts/ridership/ridership_sub.htm\")\n",
    "doc = BeautifulSoup(response.text)"
   ]
  },
  {
   "cell_type": "code",
   "execution_count": null,
   "metadata": {},
   "outputs": [],
   "source": [
    "stations = []\n",
    "lines = \"\"\n",
    "for row in doc.find_all(\"tr\")[5:]:\n",
    "    station = {}\n",
    "    total = \"\"\n",
    "    try:\n",
    "        \n",
    "        station['Station'] = row.find_all(\"td\")[0].text.strip()        \n",
    "        try: \n",
    "            for pic in row.find(\"td\").find(\"div\").find_all(\"img\"):\n",
    "                one = pic['alt'].split(\" \")[0]\n",
    "                total = one + total\n",
    "                station['lines'] = total\n",
    "        except:\n",
    "            pass\n",
    "\n",
    "        station['2013'] = row.find_all(\"td\")[1].text\n",
    "        station['2014'] = row.find_all(\"td\")[2].text\n",
    "        station['2015'] = row.find_all(\"td\")[3].text\n",
    "        station['2016'] = row.find_all(\"td\")[4].text\n",
    "        station['2017'] = row.find_all(\"td\")[5].text\n",
    "        station['2018'] = row.find_all(\"td\")[6].text.strip()\n",
    "        station['Rank'] = row.find_all(\"td\")[9].text\n",
    "        station['Borough'] = row.find_previous(\"td\", colspan=\"10\").text\n",
    "        stations.append(station)\n",
    "    except: pass"
   ]
  },
  {
   "cell_type": "code",
   "execution_count": null,
   "metadata": {},
   "outputs": [],
   "source": [
    "weekday = pd.DataFrame(stations, columns=['Station','lines','Borough','Rank','2013','2014','2015','2016','2017','2018'])\n",
    "weekday = weekday.dropna()\n",
    "\n",
    "## Changing the numbers to actual numbers\n",
    "cols = ['2013', '2014','2015','2016','2017','2018']\n",
    "weekday[cols] = df[cols].apply(lambda x: pd.to_numeric(x.astype(str).str.replace(',',''), errors='coerce'))\n",
    "weekday.Rank = weekday.Rank.astype(int)\n",
    "weekday['change'] = weekday['2018'] - weekday['2017']"
   ]
  },
  {
   "cell_type": "code",
   "execution_count": null,
   "metadata": {},
   "outputs": [],
   "source": [
    "weekday.groupby('Borough').max().plot(kind='barh', y='2018')"
   ]
  },
  {
   "cell_type": "code",
   "execution_count": null,
   "metadata": {
    "scrolled": false
   },
   "outputs": [],
   "source": [
    "weekday.groupby('Borough')['2018'].min()"
   ]
  },
  {
   "cell_type": "code",
   "execution_count": null,
   "metadata": {},
   "outputs": [],
   "source": [
    "df['change'] = df['2018'] - df['2017']"
   ]
  },
  {
   "cell_type": "code",
   "execution_count": null,
   "metadata": {},
   "outputs": [],
   "source": [
    "df.to_csv(\"station_weekday_ridership.csv\", index=False)"
   ]
  },
  {
   "cell_type": "code",
   "execution_count": null,
   "metadata": {},
   "outputs": [],
   "source": []
  },
  {
   "cell_type": "code",
   "execution_count": null,
   "metadata": {},
   "outputs": [],
   "source": []
  },
  {
   "cell_type": "code",
   "execution_count": null,
   "metadata": {},
   "outputs": [],
   "source": []
  },
  {
   "cell_type": "code",
   "execution_count": null,
   "metadata": {},
   "outputs": [],
   "source": []
  },
  {
   "cell_type": "code",
   "execution_count": null,
   "metadata": {},
   "outputs": [],
   "source": []
  },
  {
   "cell_type": "markdown",
   "metadata": {},
   "source": [
    "## Average Weekend Ridership\n",
    "`http://web.mta.info/nyct/facts/ridership/ridership_sub_weekend.htm`"
   ]
  },
  {
   "cell_type": "code",
   "execution_count": null,
   "metadata": {},
   "outputs": [],
   "source": [
    "response = requests.get(\"http://web.mta.info/nyct/facts/ridership/ridership_sub_weekend.htm\")\n",
    "doc = BeautifulSoup(response.text)"
   ]
  },
  {
   "cell_type": "code",
   "execution_count": null,
   "metadata": {},
   "outputs": [],
   "source": [
    "stations = []\n",
    "lines = \"\"\n",
    "for row in doc.find_all(\"tr\")[5:]:\n",
    "    station = {}\n",
    "    total = \"\"\n",
    "    try:\n",
    "        \n",
    "        station['Station'] = row.find_all(\"td\")[0].text.strip()        \n",
    "        try: \n",
    "            for pic in row.find(\"td\").find(\"div\").find_all(\"img\"):\n",
    "                one = pic['alt'].split(\" \")[0]\n",
    "                total = one + total\n",
    "                station['lines'] = total\n",
    "        except:\n",
    "            pass\n",
    "\n",
    "        station['2013'] = row.find_all(\"td\")[1].text\n",
    "        station['2014'] = row.find_all(\"td\")[2].text\n",
    "        station['2015'] = row.find_all(\"td\")[3].text\n",
    "        station['2016'] = row.find_all(\"td\")[4].text\n",
    "        station['2017'] = row.find_all(\"td\")[5].text\n",
    "        station['2018'] = row.find_all(\"td\")[6].text.strip()\n",
    "        station['Rank'] = row.find_all(\"td\")[9].text\n",
    "        station['Borough'] = row.find_previous(\"td\", colspan=\"10\").text\n",
    "        stations.append(station)\n",
    "    except: pass"
   ]
  },
  {
   "cell_type": "code",
   "execution_count": null,
   "metadata": {},
   "outputs": [],
   "source": [
    "df = pd.DataFrame(stations, columns=['Station','lines','Borough','Rank','2013','2014','2015','2016','2017','2018'])\n",
    "df = df.dropna()\n",
    "\n",
    "## Changing the numbers to actual numbers\n",
    "cols = ['2013', '2014','2015','2016','2017','2018']\n",
    "df[cols] = df[cols].apply(lambda x: pd.to_numeric(x.astype(str).str.replace(',',''), errors='coerce'))\n",
    "df.Rank = df.Rank.astype(int)"
   ]
  },
  {
   "cell_type": "code",
   "execution_count": null,
   "metadata": {},
   "outputs": [],
   "source": [
    "df.tail()"
   ]
  },
  {
   "cell_type": "code",
   "execution_count": null,
   "metadata": {},
   "outputs": [],
   "source": [
    "ax = df.groupby(by='Borough')['2017'].sum().plot(kind='barh', alpha=.5, color='red', title='Ridership change from 2018 to 2017', figsize=(7,5))\n",
    "df.groupby(by='Borough')['2018'].sum().plot(kind='barh', ax=ax, color='gray')"
   ]
  },
  {
   "cell_type": "code",
   "execution_count": null,
   "metadata": {},
   "outputs": [],
   "source": [
    "df.to_csv(\"station_weekend_ridership.csv\", index=False)"
   ]
  }
 ],
 "metadata": {
  "kernelspec": {
   "display_name": "Python 3",
   "language": "python",
   "name": "python3"
  },
  "language_info": {
   "codemirror_mode": {
    "name": "ipython",
    "version": 3
   },
   "file_extension": ".py",
   "mimetype": "text/x-python",
   "name": "python",
   "nbconvert_exporter": "python",
   "pygments_lexer": "ipython3",
   "version": "3.7.3"
  }
 },
 "nbformat": 4,
 "nbformat_minor": 2
}
